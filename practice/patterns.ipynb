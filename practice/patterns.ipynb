{
 "cells": [
  {
   "cell_type": "markdown",
   "metadata": {},
   "source": [
    "Example:\n",
    "Input: 3\n",
    "Output: ['***', '***', '***']\n",
    " \n",
    "Input: 5\n",
    "Output: ['*****', '*****', '*****', '*****', '*****']"
   ]
  },
  {
   "cell_type": "code",
   "execution_count": 1,
   "metadata": {},
   "outputs": [
    {
     "data": {
      "text/plain": [
       "['*****', '*****', '*****', '*****', '*****']"
      ]
     },
     "execution_count": 1,
     "metadata": {},
     "output_type": "execute_result"
    }
   ],
   "source": [
    "n=5\n",
    "result=[]\n",
    "for i in range(n):\n",
    "    result.append('*' *n)\n",
    "\n",
    "result"
   ]
  },
  {
   "cell_type": "markdown",
   "metadata": {},
   "source": [
    "Example:\n",
    "Input: 3\n",
    "Output: ['***', '* *', '***']\n",
    " \n",
    "Input: 5\n",
    "Output: ['*****', '*   *', '*   *', '*   *', '*****']"
   ]
  },
  {
   "cell_type": "code",
   "execution_count": 8,
   "metadata": {},
   "outputs": [
    {
     "data": {
      "text/plain": [
       "['*****', '*   *', '*   *', '*   *', '*****']"
      ]
     },
     "execution_count": 8,
     "metadata": {},
     "output_type": "execute_result"
    }
   ],
   "source": [
    "n=5\n",
    "result=[]\n",
    "if n == 1:\n",
    "    print('*')\n",
    "        \n",
    "elif n==2:\n",
    "    print('**', '**')\n",
    "      \n",
    "for i in range(n):\n",
    "    if i==0 or i==n-1:\n",
    "        result.append('*' *n)\n",
    "    else:\n",
    "        result.append('*'+' '* (n-2) +'*')\n",
    "    \n",
    "result"
   ]
  },
  {
   "cell_type": "markdown",
   "metadata": {},
   "source": [
    "Input: n = 4, m = 5\n",
    "Output: ['*****', '*****', '*****', '*****']\n",
    " \n",
    "Input: n = 3, m = 2\n",
    "\n",
    "Output: ['**', '**', '**']"
   ]
  },
  {
   "cell_type": "code",
   "execution_count": 11,
   "metadata": {},
   "outputs": [
    {
     "data": {
      "text/plain": [
       "['****', '****', '****']"
      ]
     },
     "execution_count": 11,
     "metadata": {},
     "output_type": "execute_result"
    }
   ],
   "source": [
    "n=3\n",
    "m=4\n",
    "result=[]\n",
    "for i in range(n):\n",
    "    result.append(\"*\"*m)\n",
    "    \n",
    "result"
   ]
  },
  {
   "cell_type": "markdown",
   "metadata": {},
   "source": [
    "Input: 3\n",
    "Output: ['*', '**', '***']\n",
    " \n",
    "Input: 5\n",
    "Output: ['*', '**', '***', '****', '*****']"
   ]
  },
  {
   "cell_type": "code",
   "execution_count": 13,
   "metadata": {},
   "outputs": [
    {
     "data": {
      "text/plain": [
       "['*', '**', '***', '****', '*****']"
      ]
     },
     "execution_count": 13,
     "metadata": {},
     "output_type": "execute_result"
    }
   ],
   "source": [
    "n=5\n",
    "result=[]\n",
    "    \n",
    "for i in range(1, n+1):\n",
    "    result.append('*' * i)\n",
    "    \n",
    "result\n"
   ]
  },
  {
   "cell_type": "markdown",
   "metadata": {},
   "source": [
    "Input: 3\n",
    "Output: ['***', '**', '*']\n",
    " \n",
    "Input: 5\n",
    "Output: ['*****', '****', '***', '**', '*']"
   ]
  },
  {
   "cell_type": "code",
   "execution_count": 18,
   "metadata": {},
   "outputs": [
    {
     "name": "stdout",
     "output_type": "stream",
     "text": [
      "****\n",
      "***\n",
      "**\n",
      "*\n"
     ]
    }
   ],
   "source": [
    "n=4\n",
    "for i in range(n,0,-1):\n",
    "    print('*'* i )"
   ]
  },
  {
   "cell_type": "markdown",
   "metadata": {},
   "source": [
    "Input: 3\n",
    "Output: ['  *  ', ' *** ', '*****']\n",
    " \n",
    "Input: 5\n",
    "Output: ['    *    ', '   ***   ', '  *****  ', ' ******* ', '*********']"
   ]
  },
  {
   "cell_type": "code",
   "execution_count": 1,
   "metadata": {},
   "outputs": [
    {
     "data": {
      "text/plain": [
       "['  *  ', ' *** ', '*****']"
      ]
     },
     "execution_count": 1,
     "metadata": {},
     "output_type": "execute_result"
    }
   ],
   "source": [
    "n=3\n",
    "result=[]\n",
    "    \n",
    "for i in range(n):\n",
    "    space=' ' * (n - i - 1)\n",
    "    stars='*' * (2 * i + 1)\n",
    "    result.append(space + stars + space)\n",
    "        \n",
    "result"
   ]
  },
  {
   "cell_type": "markdown",
   "metadata": {},
   "source": [
    "Input: 3\n",
    "Output: ['*****', ' *** ', '  *  ']\n",
    " \n",
    "Input: 5\n",
    "Output: ['*********', ' ******* ', '  *****  ', '   ***   ', '    *    ']\n",
    "\n"
   ]
  },
  {
   "cell_type": "code",
   "execution_count": 12,
   "metadata": {},
   "outputs": [
    {
     "data": {
      "text/plain": [
       "['*******', ' ***** ', '  ***  ', '   *   ']"
      ]
     },
     "execution_count": 12,
     "metadata": {},
     "output_type": "execute_result"
    }
   ],
   "source": [
    "n=4\n",
    "results = []\n",
    "for i in range(n,0,-1):\n",
    "    star=\"*\" * (2 * i - 1) \n",
    "    space=\" \" *  (n - i)\n",
    "    results.append(space + star + space)\n",
    "    \n",
    "results"
   ]
  },
  {
   "cell_type": "markdown",
   "metadata": {},
   "source": [
    "Input: 5\n",
    "Output: ['1', '22', '333', '4444', '55555']\n",
    " \n",
    "Input: 3\n",
    "Output: ['1', '22', '333']"
   ]
  },
  {
   "cell_type": "code",
   "execution_count": 13,
   "metadata": {},
   "outputs": [
    {
     "data": {
      "text/plain": [
       "['1', '22', '333', '4444', '55555']"
      ]
     },
     "execution_count": 13,
     "metadata": {},
     "output_type": "execute_result"
    }
   ],
   "source": [
    "n=5\n",
    "results=[]\n",
    "for i in range(1,n+1):\n",
    "    temp=str(i) * i\n",
    "    results.append(temp)\n",
    "    \n",
    "results"
   ]
  },
  {
   "cell_type": "code",
   "execution_count": 25,
   "metadata": {},
   "outputs": [
    {
     "data": {
      "text/plain": [
       "'ABC'"
      ]
     },
     "execution_count": 25,
     "metadata": {},
     "output_type": "execute_result"
    }
   ],
   "source": [
    "letters = [\"A\", \"B\", \"C\"]\n",
    "\"\".join(letters)"
   ]
  },
  {
   "cell_type": "code",
   "execution_count": 26,
   "metadata": {},
   "outputs": [
    {
     "data": {
      "text/plain": [
       "['1', '2 3', '4 5 6', '7 8 9 10', '11 12 13 14 15']"
      ]
     },
     "execution_count": 26,
     "metadata": {},
     "output_type": "execute_result"
    }
   ],
   "source": [
    "results=[]\n",
    "num=1\n",
    "n=5\n",
    "for i in range(1,n+1):\n",
    "    row=[]\n",
    "    for j in range(i):\n",
    "        row.append(str(num))\n",
    "        num=num + 1\n",
    "            \n",
    "    results.append(\" \".join(row))\n",
    "    \n",
    "results"
   ]
  },
  {
   "cell_type": "markdown",
   "metadata": {},
   "source": [
    "Input: 3\n",
    "Output: ['  *  ', ' *** ', '*****', ' *** ', '  *  ']\n",
    " \n",
    "Input: 5\n",
    "Output: ['    *    ', '   ***   ', '  *****  ', ' ******* ', '*********', ' ******* ', '  *****  ', '   ***   ', '    *    ']"
   ]
  },
  {
   "cell_type": "code",
   "execution_count": 28,
   "metadata": {},
   "outputs": [
    {
     "data": {
      "text/plain": [
       "['        *        ',\n",
       " '       ***       ',\n",
       " '      *****      ',\n",
       " '     *******     ',\n",
       " '    *********    ',\n",
       " '   ***********   ',\n",
       " '  *************  ',\n",
       " ' *************** ',\n",
       " '*****************',\n",
       " ' *************** ',\n",
       " '  *************  ',\n",
       " '   ***********   ',\n",
       " '    *********    ',\n",
       " '     *******     ',\n",
       " '      *****      ',\n",
       " '       ***       ',\n",
       " '        *        ']"
      ]
     },
     "execution_count": 28,
     "metadata": {},
     "output_type": "execute_result"
    }
   ],
   "source": [
    "n=9\n",
    "result=[]\n",
    "for upper in range(1,n+1):\n",
    "        \n",
    "    space=\" \" * (n - upper)\n",
    "    star=\"*\" * (2 * upper - 1 )\n",
    "    result.append(space + star + space)\n",
    "    \n",
    "for lower in range(n -1 ,0,-1):\n",
    "        \n",
    "    space=\" \" * (n - lower)\n",
    "    star=\"*\" * (2 * lower - 1)\n",
    "    result.append(space + star + space)\n",
    "      \n",
    "result"
   ]
  },
  {
   "cell_type": "markdown",
   "metadata": {},
   "source": [
    "Input: 4\n",
    "Output: ['   *', '  **', ' ***', '****']\n",
    " \n",
    "Input: 3\n",
    "Output: ['  *', ' **', '***']"
   ]
  },
  {
   "cell_type": "code",
   "execution_count": 29,
   "metadata": {},
   "outputs": [
    {
     "data": {
      "text/plain": [
       "['        *',\n",
       " '       **',\n",
       " '      ***',\n",
       " '     ****',\n",
       " '    *****',\n",
       " '   ******',\n",
       " '  *******',\n",
       " ' ********',\n",
       " '*********']"
      ]
     },
     "execution_count": 29,
     "metadata": {},
     "output_type": "execute_result"
    }
   ],
   "source": [
    "results=[]\n",
    "for i in range(1,n+1):\n",
    "    space=\" \" * (n - i)\n",
    "    star=\"*\" * i\n",
    "    results.append(space + star)\n",
    "        \n",
    "results"
   ]
  },
  {
   "cell_type": "markdown",
   "metadata": {},
   "source": [
    "Input: 3\n",
    "Output: ['*****', ' *** ', '  *  ', ' *** ', '*****']\n",
    " \n",
    "Input: 4\n",
    "Output: ['*******', ' ***** ', '  ***  ', '   *   ', '  ***  ', ' ***** ', '*******']"
   ]
  },
  {
   "cell_type": "code",
   "execution_count": 30,
   "metadata": {},
   "outputs": [
    {
     "data": {
      "text/plain": [
       "['*****************',\n",
       " ' *************** ',\n",
       " '  *************  ',\n",
       " '   ***********   ',\n",
       " '    *********    ',\n",
       " '     *******     ',\n",
       " '      *****      ',\n",
       " '       ***       ',\n",
       " '        *        ',\n",
       " '       ***       ',\n",
       " '      *****      ',\n",
       " '     *******     ',\n",
       " '    *********    ',\n",
       " '   ***********   ',\n",
       " '  *************  ',\n",
       " ' *************** ',\n",
       " '*****************']"
      ]
     },
     "execution_count": 30,
     "metadata": {},
     "output_type": "execute_result"
    }
   ],
   "source": [
    "result=[]\n",
    "    \n",
    "for i in range(n,0,-1):\n",
    "    space = \" \" * (n - i)\n",
    "    star = \"*\" * (2 * i - 1)\n",
    "    \n",
    "    result.append(space + star + space)\n",
    "        \n",
    "for i in range(2,n+1):\n",
    "    space = \" \" * (n - i)\n",
    "    star = \"*\" * (2 * i - 1)\n",
    "    \n",
    "    result.append(space + star + space)    \n",
    "        \n",
    "result"
   ]
  },
  {
   "cell_type": "markdown",
   "metadata": {},
   "source": [
    "Input: 4\n",
    "Output: ['*', '**', '* *', '****']\n",
    " \n",
    "Input: 5\n",
    "Output: ['*', '**', '* *', '*  *', '*****']"
   ]
  },
  {
   "cell_type": "code",
   "execution_count": 31,
   "metadata": {},
   "outputs": [
    {
     "data": {
      "text/plain": [
       "['*',\n",
       " '**',\n",
       " '* *',\n",
       " '*  *',\n",
       " '*   *',\n",
       " '*    *',\n",
       " '*     *',\n",
       " '*      *',\n",
       " '*********']"
      ]
     },
     "execution_count": 31,
     "metadata": {},
     "output_type": "execute_result"
    }
   ],
   "source": [
    "triangle = []\n",
    "for i in range(1, n + 1):\n",
    "    if i == 1:\n",
    "        triangle.append(\"*\")\n",
    "    elif i == 2:\n",
    "        triangle.append(\"**\")\n",
    "    elif i == n:\n",
    "        triangle.append(\"*\" * n)\n",
    "    else:\n",
    "        triangle.append(\"*\" + \" \" * (i - 2) + \"*\")\n",
    "\n",
    "\n",
    "triangle"
   ]
  },
  {
   "cell_type": "markdown",
   "metadata": {},
   "source": [
    "Input: 4\n",
    "Output: ['****', '* *', '**', '*']\n",
    " \n",
    "Input: 5\n",
    "Output: ['*****', '*  *', '* *', '**', '*']"
   ]
  },
  {
   "cell_type": "code",
   "execution_count": 34,
   "metadata": {},
   "outputs": [
    {
     "data": {
      "text/plain": [
       "['*********',\n",
       " '*      *',\n",
       " '*     *',\n",
       " '*    *',\n",
       " '*   *',\n",
       " '*  *',\n",
       " '* *',\n",
       " '**',\n",
       " '*']"
      ]
     },
     "execution_count": 34,
     "metadata": {},
     "output_type": "execute_result"
    }
   ],
   "source": [
    "\n",
    "triangle = []\n",
    "for i in range(n):\n",
    "    stars_in_row = n - i  # number of columns in this row\n",
    "\n",
    "    if stars_in_row == 1:\n",
    "        triangle.append(\"*\")  # last row\n",
    "    elif stars_in_row == 2:\n",
    "        triangle.append(\"**\")  # second to last row\n",
    "    elif i == 0:\n",
    "        triangle.append(\"*\" * stars_in_row)  # top row: all stars\n",
    "    else:\n",
    "        inner_spaces = stars_in_row - 2\n",
    "        triangle.append(\"*\" + \" \" * inner_spaces + \"*\")\n",
    "triangle"
   ]
  }
 ],
 "metadata": {
  "kernelspec": {
   "display_name": "Python 3",
   "language": "python",
   "name": "python3"
  },
  "language_info": {
   "codemirror_mode": {
    "name": "ipython",
    "version": 3
   },
   "file_extension": ".py",
   "mimetype": "text/x-python",
   "name": "python",
   "nbconvert_exporter": "python",
   "pygments_lexer": "ipython3",
   "version": "3.10.13"
  }
 },
 "nbformat": 4,
 "nbformat_minor": 2
}
