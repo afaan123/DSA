{
 "cells": [
  {
   "cell_type": "markdown",
   "metadata": {},
   "source": [
    "Input: numbers = [1, 2, 3, 4, 5]\n",
    "Output: 15\n",
    "Input: numbers = [10, -5, 7, 8, -2]\n",
    "Output: 18"
   ]
  },
  {
   "cell_type": "code",
   "execution_count": 2,
   "metadata": {},
   "outputs": [
    {
     "data": {
      "text/plain": [
       "6"
      ]
     },
     "execution_count": 2,
     "metadata": {},
     "output_type": "execute_result"
    }
   ],
   "source": [
    "def sum_list(numbers):\n",
    "    # Your code goes here\n",
    "    sum = 0\n",
    "    for i in numbers:\n",
    "        sum= sum + i\n",
    "    sum\n",
    "\n",
    "sum([1,2,3])"
   ]
  },
  {
   "cell_type": "markdown",
   "metadata": {},
   "source": [
    "Input: numbers = [3, 8, 2, 10, 5]\n",
    "Output: 10\n",
    "Input: numbers = [-5, -10, -2, -1, -7]\n",
    "Output: -1"
   ]
  },
  {
   "cell_type": "code",
   "execution_count": 4,
   "metadata": {},
   "outputs": [
    {
     "name": "stdout",
     "output_type": "stream",
     "text": [
      "5\n"
     ]
    }
   ],
   "source": [
    "def find_largest(numbers):\n",
    "    # Your code goes here\n",
    "    max = numbers[0]\n",
    "    for i in numbers:\n",
    "        if max < i :\n",
    "            max = i\n",
    "    print(max)\n",
    "find_largest([1,2,3,4,5])"
   ]
  },
  {
   "cell_type": "markdown",
   "metadata": {},
   "source": [
    "Input: lst = [1, 2, 2, 3, 4, 4, 5]\n",
    "Output: [1, 2, 3, 4, 5]\n",
    "Input: lst = [4, 5, 5, 4, 6, 7]\n",
    "Output: [4, 5, 6, 7]"
   ]
  },
  {
   "cell_type": "code",
   "execution_count": 6,
   "metadata": {},
   "outputs": [
    {
     "data": {
      "text/plain": [
       "[1, 2, 3, 4, 5]"
      ]
     },
     "execution_count": 6,
     "metadata": {},
     "output_type": "execute_result"
    }
   ],
   "source": [
    "def remove_duplicates(lst):\n",
    "    hashset = set()\n",
    "    \n",
    "    for i in lst:\n",
    "        hashset.add(i)\n",
    "    \n",
    "    return list(hashset)\n",
    "\n",
    "remove_duplicates([1,2,3,4,5])\n"
   ]
  },
  {
   "cell_type": "markdown",
   "metadata": {},
   "source": [
    "Input: lst = [1, 2, 3, 4, 5]\n",
    "Output: True\n",
    "Input: lst = [1, 2, 3, 3, 4, 5]\n",
    "Output: False"
   ]
  },
  {
   "cell_type": "code",
   "execution_count": null,
   "metadata": {},
   "outputs": [],
   "source": [
    "def check_unique(lst):\n",
    "    # Your code goes here\n",
    "    hashset = set()\n",
    "    \n",
    "    for i in lst:\n",
    "        if i in hashset:\n",
    "            return False\n",
    "        hashset.add(i)\n",
    "    return True    \n",
    "    \n",
    "    return list(hashset)\n"
   ]
  },
  {
   "cell_type": "markdown",
   "metadata": {},
   "source": [
    "Input: lst = [1, 2, 3, 4, 5]\n",
    "Output: [5, 4, 3, 2, 1]"
   ]
  },
  {
   "cell_type": "code",
   "execution_count": null,
   "metadata": {},
   "outputs": [],
   "source": [
    "def reverse_list(lst):\n",
    "    # Your code goes here\n",
    "    reverse_list= []\n",
    "    \n",
    "    n = len(lst)\n",
    "    \n",
    "    for i in range(n - 1,-1,-1):\n",
    "        reverse_list.append(lst[i])\n",
    "    \n",
    "    return reverse_list\n",
    "    "
   ]
  },
  {
   "cell_type": "markdown",
   "metadata": {},
   "source": [
    "Example:\n",
    "Input: lst = [1, 2, 3, 4, 5]\n",
    "Output: (2, 3)\n",
    "There are 2 even numbers: 2, 4\n",
    "There are 3 odd numbers: 1, 3, 5"
   ]
  },
  {
   "cell_type": "code",
   "execution_count": null,
   "metadata": {},
   "outputs": [],
   "source": [
    "def count_even_odd(lst):\n",
    "    # Your code goes here\n",
    "    \n",
    "    counteven=0\n",
    "    countodd=0\n",
    "    \n",
    "    for i in lst:\n",
    "        if i % 2 == 0 :\n",
    "            counteven= counteven +1 \n",
    "        else: \n",
    "            \n",
    "            countodd = countodd +1 \n",
    "    \n",
    "    return (counteven, countodd)\n"
   ]
  },
  {
   "cell_type": "markdown",
   "metadata": {},
   "source": [
    "Example:\n",
    "Input: lst = [1, 7, 3, 10, 5]\n",
    "Output: 7\n",
    "The maximum difference is between 3 and 10 (i.e., |3 - 10| = 7).\n",
    "Input: lst = [10, 11, 15, 3]\n",
    "Output: 12\n",
    "The maximum difference is between 15 and 3 (i.e., |15 - 3| = 12)."
   ]
  },
  {
   "cell_type": "code",
   "execution_count": 10,
   "metadata": {},
   "outputs": [],
   "source": [
    "def max_consecutive_difference(lst):\n",
    "    # Your code goes here\n",
    "    \n",
    "    maxdiff= 0\n",
    "    if len(lst) < 2:\n",
    "        return 0  # No consecutive pairs exist\n",
    "      \n",
    "    for i in range(len(lst) - 1):\n",
    "        diff = abs(lst[i] - lst[i+1])\n",
    "        \n",
    "        if maxdiff  < diff:\n",
    "            maxdiff = diff\n",
    "        \n",
    "        \n",
    "    return maxdiff\n"
   ]
  },
  {
   "cell_type": "markdown",
   "metadata": {},
   "source": [
    "Input: list1 = [1, 3, 5], list2 = [2, 4, 6]\n",
    "Output: [1, 2, 3, 4, 5, 6]\n",
    "Input: list1 = [1, 4, 7], list2 = [2, 3, 5, 8]\n",
    "Output: [1, 2, 3, 4, 5, 7, 8]"
   ]
  },
  {
   "cell_type": "code",
   "execution_count": 11,
   "metadata": {},
   "outputs": [],
   "source": [
    "def merge_two_sorted_lists(list1, list2):\n",
    "    i = j = 0\n",
    "    result = []\n",
    "\n",
    "    # Merge both lists while elements remain\n",
    "    while i < len(list1) and j < len(list2):\n",
    "        if list1[i] < list2[j]:  # Use < for ascending order\n",
    "            result.append(list1[i])\n",
    "            i += 1\n",
    "        else:\n",
    "            result.append(list2[j])\n",
    "            j += 1\n",
    "\n",
    "    # Append remaining elements from list1\n",
    "    while i < len(list1):\n",
    "        result.append(list1[i])\n",
    "        i += 1\n",
    "\n",
    "    # Append remaining elements from list2\n",
    "    while j < len(list2):\n",
    "        result.append(list2[j])\n",
    "        j += 1\n",
    "\n",
    "    return result\n"
   ]
  },
  {
   "cell_type": "markdown",
   "metadata": {},
   "source": [
    "Input: lst = [1, 2, 3, 4, 5], k = 2\n",
    "Output: [4, 5, 1, 2, 3]\n",
    "Input: lst = [10, 20, 30, 40, 50], k = 3\n",
    "Output: [30, 40, 50, 10, 20]"
   ]
  },
  {
   "cell_type": "markdown",
   "metadata": {},
   "source": []
  }
 ],
 "metadata": {
  "kernelspec": {
   "display_name": "Python 3",
   "language": "python",
   "name": "python3"
  },
  "language_info": {
   "codemirror_mode": {
    "name": "ipython",
    "version": 3
   },
   "file_extension": ".py",
   "mimetype": "text/x-python",
   "name": "python",
   "nbconvert_exporter": "python",
   "pygments_lexer": "ipython3",
   "version": "3.10.13"
  }
 },
 "nbformat": 4,
 "nbformat_minor": 2
}
