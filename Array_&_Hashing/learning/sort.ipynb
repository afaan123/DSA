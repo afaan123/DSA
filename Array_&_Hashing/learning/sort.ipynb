{
 "cells": [
  {
   "cell_type": "code",
   "execution_count": 4,
   "id": "af0860ef",
   "metadata": {},
   "outputs": [
    {
     "name": "stdout",
     "output_type": "stream",
     "text": [
      "None\n"
     ]
    }
   ],
   "source": [
    "nums = [3, 1, 2, 1]\n",
    "num = nums.sort()  # This makes nums = None!\n",
    "\n",
    "print(num)  # Output: None\n",
    "\n"
   ]
  },
  {
   "cell_type": "markdown",
   "id": "3b2f410e",
   "metadata": {},
   "source": [
    "# Hash set"
   ]
  },
  {
   "cell_type": "code",
   "execution_count": 5,
   "id": "bb77eee8",
   "metadata": {},
   "outputs": [
    {
     "name": "stdout",
     "output_type": "stream",
     "text": [
      "{1, 2, 3}\n",
      "True\n",
      "{2, 3}\n"
     ]
    }
   ],
   "source": [
    "# Create a set\n",
    "my_set = set()\n",
    "\n",
    "# Add elements\n",
    "my_set.add(1)\n",
    "my_set.add(2)\n",
    "my_set.add(3)\n",
    "\n",
    "# Try to add a duplicate\n",
    "my_set.add(2)  # This will not add again\n",
    "print(my_set)\n",
    "# Check if an element exists\n",
    "print(2 in my_set)  # True\n",
    "\n",
    "# Remove an element\n",
    "my_set.remove(1)\n",
    "\n",
    "# Print the set\n",
    "print(my_set)  # Output: {2, 3}\n"
   ]
  },
  {
   "cell_type": "markdown",
   "id": "a97868b5",
   "metadata": {},
   "source": [
    "# Hash Map"
   ]
  },
  {
   "cell_type": "code",
   "execution_count": 2,
   "id": "bdb1a947",
   "metadata": {},
   "outputs": [
    {
     "name": "stdout",
     "output_type": "stream",
     "text": [
      "{'name': 'Alice', 'age': 25, 'city': 'New York'}\n",
      "Alice\n",
      "Age: 25\n",
      "name -> Alice\n",
      "age -> 25\n"
     ]
    }
   ],
   "source": [
    "# Create a HashMap\n",
    "my_map = {}\n",
    "\n",
    "# Insert values\n",
    "my_map[\"name\"] = \"Alice\"\n",
    "my_map[\"age\"] = 25\n",
    "my_map[\"city\"] = \"New York\"\n",
    "\n",
    "print(my_map)\n",
    "# Access value\n",
    "print(my_map[\"name\"])  # Output: Alice\n",
    "\n",
    "# Check if key exists\n",
    "if \"age\" in my_map:\n",
    "    print(\"Age:\", my_map[\"age\"])\n",
    "\n",
    "# Remove a key\n",
    "del my_map[\"city\"]\n",
    "\n",
    "# Print all key-value pairs\n",
    "for key, value in my_map.items():\n",
    "    print(key, \"->\", value)\n"
   ]
  },
  {
   "cell_type": "code",
   "execution_count": 3,
   "id": "1bc17627",
   "metadata": {},
   "outputs": [
    {
     "name": "stdout",
     "output_type": "stream",
     "text": [
      "🔑 Keys:\n",
      "name\n",
      "age\n",
      "grade\n",
      "\n",
      "📦 Values:\n",
      "Alice\n",
      "20\n",
      "A\n",
      "\n",
      "🔗 Key-Value Pairs:\n",
      "name -> Alice\n",
      "age -> 20\n",
      "grade -> A\n"
     ]
    }
   ],
   "source": [
    "# Sample dictionary\n",
    "student = {\n",
    "    \"name\": \"Alice\",\n",
    "    \"age\": 20,\n",
    "    \"grade\": \"A\"\n",
    "}\n",
    "\n",
    "# 1. Loop through keys\n",
    "print(\"🔑 Keys:\")\n",
    "for key in student:\n",
    "    print(key)\n",
    "\n",
    "# 2. Loop through values\n",
    "print(\"\\n📦 Values:\")\n",
    "for value in student.values():\n",
    "    print(value)\n",
    "\n",
    "# 3. Loop through key-value pairs\n",
    "print(\"\\n🔗 Key-Value Pairs:\")\n",
    "for key, value in student.items():\n",
    "    print(key, \"->\", value)\n"
   ]
  },
  {
   "cell_type": "markdown",
   "id": "5aedf63b",
   "metadata": {},
   "source": [
    "# Counter\n"
   ]
  },
  {
   "cell_type": "code",
   "execution_count": 4,
   "id": "1d20d583",
   "metadata": {},
   "outputs": [
    {
     "name": "stdout",
     "output_type": "stream",
     "text": [
      "Counter({'p': 2, 'a': 1, 'l': 1, 'e': 1})\n"
     ]
    }
   ],
   "source": [
    "from collections import Counter\n",
    "\n",
    "word = \"apple\"\n",
    "count = Counter(word)\n",
    "print(count)\n"
   ]
  }
 ],
 "metadata": {
  "kernelspec": {
   "display_name": "Python 3",
   "language": "python",
   "name": "python3"
  },
  "language_info": {
   "codemirror_mode": {
    "name": "ipython",
    "version": 3
   },
   "file_extension": ".py",
   "mimetype": "text/x-python",
   "name": "python",
   "nbconvert_exporter": "python",
   "pygments_lexer": "ipython3",
   "version": "3.10.13"
  }
 },
 "nbformat": 4,
 "nbformat_minor": 5
}
