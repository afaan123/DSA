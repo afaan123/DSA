{
 "cells": [
  {
   "cell_type": "code",
   "execution_count": 4,
   "id": "af0860ef",
   "metadata": {},
   "outputs": [
    {
     "name": "stdout",
     "output_type": "stream",
     "text": [
      "None\n"
     ]
    }
   ],
   "source": [
    "nums = [3, 1, 2, 1]\n",
    "num = nums.sort()  # This makes nums = None!\n",
    "\n",
    "print(num)  # Output: None\n",
    "\n"
   ]
  },
  {
   "cell_type": "code",
   "execution_count": 5,
   "id": "bb77eee8",
   "metadata": {},
   "outputs": [
    {
     "name": "stdout",
     "output_type": "stream",
     "text": [
      "{1, 2, 3}\n",
      "True\n",
      "{2, 3}\n"
     ]
    }
   ],
   "source": [
    "# Create a set\n",
    "my_set = set()\n",
    "\n",
    "# Add elements\n",
    "my_set.add(1)\n",
    "my_set.add(2)\n",
    "my_set.add(3)\n",
    "\n",
    "# Try to add a duplicate\n",
    "my_set.add(2)  # This will not add again\n",
    "print(my_set)\n",
    "# Check if an element exists\n",
    "print(2 in my_set)  # True\n",
    "\n",
    "# Remove an element\n",
    "my_set.remove(1)\n",
    "\n",
    "# Print the set\n",
    "print(my_set)  # Output: {2, 3}\n"
   ]
  }
 ],
 "metadata": {
  "kernelspec": {
   "display_name": "Python 3",
   "language": "python",
   "name": "python3"
  },
  "language_info": {
   "codemirror_mode": {
    "name": "ipython",
    "version": 3
   },
   "file_extension": ".py",
   "mimetype": "text/x-python",
   "name": "python",
   "nbconvert_exporter": "python",
   "pygments_lexer": "ipython3",
   "version": "3.10.13"
  }
 },
 "nbformat": 4,
 "nbformat_minor": 5
}
